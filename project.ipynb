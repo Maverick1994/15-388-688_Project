{
 "cells": [
  {
   "cell_type": "code",
   "execution_count": 2,
   "metadata": {
    "collapsed": false
   },
   "outputs": [],
   "source": [
    "from pattern.web import Twitter"
   ]
  },
  {
   "cell_type": "code",
   "execution_count": 3,
   "metadata": {
    "collapsed": true
   },
   "outputs": [],
   "source": [
    "engine = Twitter()"
   ]
  },
  {
   "cell_type": "code",
   "execution_count": 27,
   "metadata": {
    "collapsed": false
   },
   "outputs": [
    {
     "name": "stdout",
     "output_type": "stream",
     "text": [
      "RT @ianplata: RT a mi tweet FIJO y te volverás inmune a #Trump Gracias, Buenas Noches y Descansen!!!😂 https://t.co/94vzC9QSKw\n",
      "Thu Nov 10 05:33:31 +0000 2016\n",
      ".@SkyNews Have you no shame? The rubbish you have on now. Did @CNN buy you out? #Election2016 #Trump #WikiLeaks\n",
      "Thu Nov 10 05:33:31 +0000 2016\n",
      "RT @RT_America: #BREAKING: #Trump campaign manager does not rule out special prosecutor for Hillary #Clinton - MSNBC https://t.co/XjbVMc2O3…\n",
      "Thu Nov 10 05:33:31 +0000 2016\n",
      "Günaydın TÜRKİYEM\n",
      "Şimdii.. bu #TRUMP seçildi ya!\n",
      "#feto gerçekten iade edilip, öterse bu AKePe nin hali nice olacak?\n",
      "Hayırlara vesile olsun 😆\n",
      "Thu Nov 10 05:33:31 +0000 2016\n",
      "RT @extra3: Der Umbau der USA hat begonnen. #Trump #uswahl16 https://t.co/kUojIP1qhm\n",
      "Thu Nov 10 05:33:31 +0000 2016\n",
      "Première rencontre entre Obama et #Trump à la Maison-Blanche prévue ce matin à 11h https://t.co/FbXqImggrm #E1Matin https://t.co/6HseBQXnmq\n",
      "Thu Nov 10 05:33:30 +0000 2016\n",
      "Première rencontre entre Obama et #Trump à la Maison-Blanche prévue ce matin à 11h https://t.co/VeBGeP03Qv #E1Matin https://t.co/3BuUZFqv21\n",
      "Thu Nov 10 05:33:30 +0000 2016\n",
      "@realDonaldTrump #trump #clinton\n",
      "\n",
      "https://t.co/P7vrZGQU6r\n",
      "Thu Nov 10 05:33:30 +0000 2016\n",
      "RT @AfricanaCarr: There is no US president to compare #Trump to. Voters did not lower the bar for a US head of state. They erased it. It no…\n",
      "Thu Nov 10 05:33:30 +0000 2016\n",
      "RT @BrittanyKirstin: Hundreds march the streets of Oakland in to #protest the election of #Trump #onassignment for @KQEDnews https://t.co/i…\n",
      "Thu Nov 10 05:33:29 +0000 2016\n"
     ]
    }
   ],
   "source": [
    "for tweet in engine.search(\"#Trump\", count=10):\n",
    "    print tweet.text\n",
    "    print tweet.date"
   ]
  },
  {
   "cell_type": "code",
   "execution_count": null,
   "metadata": {
    "collapsed": true
   },
   "outputs": [],
   "source": []
  }
 ],
 "metadata": {
  "kernelspec": {
   "display_name": "Python [Root]",
   "language": "python",
   "name": "Python [Root]"
  },
  "language_info": {
   "codemirror_mode": {
    "name": "ipython",
    "version": 2
   },
   "file_extension": ".py",
   "mimetype": "text/x-python",
   "name": "python",
   "nbconvert_exporter": "python",
   "pygments_lexer": "ipython2",
   "version": "2.7.12"
  }
 },
 "nbformat": 4,
 "nbformat_minor": 0
}
