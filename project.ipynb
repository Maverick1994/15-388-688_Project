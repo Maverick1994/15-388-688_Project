{
 "cells": [
  {
   "cell_type": "code",
   "execution_count": 13,
   "metadata": {
    "collapsed": false,
    "scrolled": true
   },
   "outputs": [],
   "source": [
    "import pickle\n",
    "import pandas as pd\n",
    "import datetime\n",
    "import unirest\n",
    "from glob import glob\n",
    "from collections import Counter\n",
    "from get_tweets import get_tweets"
   ]
  },
  {
   "cell_type": "code",
   "execution_count": 2,
   "metadata": {
    "collapsed": true,
    "scrolled": true
   },
   "outputs": [],
   "source": [
    "with open('movies_data1.pkl', 'r') as picklefile:\n",
    "    movies_scraped, movies_skipped = pickle.load(picklefile)"
   ]
  },
  {
   "cell_type": "code",
   "execution_count": 3,
   "metadata": {
    "collapsed": true,
    "scrolled": true
   },
   "outputs": [],
   "source": [
    "movies = pd.DataFrame(movies_scraped)\n",
    "movies.dropna(axis=0, subset=['domestic_total_gross'], inplace=True)\n",
    "movies.sort_values(by='domestic_total_gross', ascending=False, inplace=True)"
   ]
  },
  {
   "cell_type": "code",
   "execution_count": 39,
   "metadata": {
    "collapsed": false,
    "scrolled": true
   },
   "outputs": [
    {
     "name": "stdout",
     "output_type": "stream",
     "text": [
      "14682\n",
      "              BOM_id                                             actors  \\\n",
      "9982       starwars7  John BoyegaDaisy RidleyAdam DriverOscar IsaacA...   \n",
      "13275         avatar  Sam WorthingtonZoe SaldanaSigourney WeaverMich...   \n",
      "1772   jurassicpark4  Nick RobinsonOmar SyChris PrattBryce Dallas Ho...   \n",
      "2616      avengers11  Robert Downey, Jr.Chris HemsworthChris EvansJe...   \n",
      "7211         titanic  Leonardo DiCaprioKate WinsletBilly ZaneKathy B...   \n",
      "9173      darkknight  Christian BaleHeath LedgerAaron EckhartMorgan ...   \n",
      "4547       pixar2015  Ellen DeGeneres (Voice)Albert Brooks (Voice)Ed...   \n",
      "3565       avengers2  Robert Downey, Jr.Chris HemsworthMark RuffaloC...   \n",
      "953          batman3  Christian BaleMichael CaineAnne HathawayTom Ha...   \n",
      "4183          shrek2  Mike Myers (Voice)Cameron Diaz (Voice)Eddie Mu...   \n",
      "\n",
      "            budget                                   director   distributor  \\\n",
      "9982   245000000.0                                J.J. Abrams   Buena Vista   \n",
      "13275          NaN                              James Cameron           Fox   \n",
      "1772   150000000.0                            Colin Trevorrow     Universal   \n",
      "2616   220000000.0                                Joss Whedon   Buena Vista   \n",
      "7211   200000000.0                              James Cameron     Paramount   \n",
      "9173   185000000.0                          Christopher Nolan  Warner Bros.   \n",
      "4547           NaN  Angus MacLane (co-director)Andrew Stanton   Buena Vista   \n",
      "3565   250000000.0                                Joss Whedon   Buena Vista   \n",
      "953    250000000.0                          Christopher Nolan  Warner Bros.   \n",
      "4183   150000000.0    Andrew AdamsonKelly AsburyConrad Vernon    DreamWorks   \n",
      "\n",
      "       domestic_total_gross               genre                   movie_title  \\\n",
      "9982            936662225.0      Sci-Fi Fantasy  Star Wars: The Force Awakens   \n",
      "13275           749766139.0    Sci-Fi Adventure                        Avatar   \n",
      "1772            652270625.0  Action / Adventure                Jurassic World   \n",
      "2616            623357910.0  Action / Adventure         Marvel's The Avengers   \n",
      "7211            600788188.0             Romance                       Titanic   \n",
      "9173            533345358.0  Action / Adventure               The Dark Knight   \n",
      "4547            485918351.0           Animation                  Finding Dory   \n",
      "3565            459005868.0  Action / Adventure       Avengers: Age of Ultron   \n",
      "953             448139099.0     Action Thriller         The Dark Knight Rises   \n",
      "4183            441226247.0           Animation                       Shrek 2   \n",
      "\n",
      "       opening_income_wend  opening_theaters rating release_date  runtime_mins  \n",
      "9982           247966675.0            4134.0  PG-13   2015-12-18         136.0  \n",
      "13275           77025481.0            3452.0  PG-13   2009-12-18         160.0  \n",
      "1772           208806270.0            4274.0  PG-13   2015-06-12         124.0  \n",
      "2616           207438708.0            4349.0  PG-13   2012-05-04         142.0  \n",
      "7211            28638131.0            2674.0  PG-13   1997-12-19         194.0  \n",
      "9173           158411483.0            4366.0  PG-13   2008-07-18         150.0  \n",
      "4547           135060273.0            4305.0     PG   2016-06-17         103.0  \n",
      "3565           191271109.0            4276.0  PG-13   2015-05-01         141.0  \n",
      "953            160887295.0            4404.0  PG-13   2012-07-20         165.0  \n",
      "4183           108037878.0            4163.0     PG   2004-05-19          93.0  \n"
     ]
    }
   ],
   "source": [
    "print len(movies)\n",
    "print movies[:10]"
   ]
  },
  {
   "cell_type": "code",
   "execution_count": 22,
   "metadata": {
    "collapsed": false,
    "scrolled": true
   },
   "outputs": [
    {
     "name": "stdout",
     "output_type": "stream",
     "text": [
      "[u'Sci-Fi Fantasy' u'Sci-Fi Adventure' u'Action / Adventure' u'Romance'\n",
      " u'Animation' u'Action Thriller' u'Period Adventure' u'Sci-Fi Action'\n",
      " u'Fantasy' u'Historical Drama' u'Adventure' u'Action' u'Family Adventure'\n",
      " u'Sci-Fi Horror' u'Drama' u'Comedy / Drama' u'Horror' u'Family Comedy'\n",
      " u'Comedy' u'Sci-Fi Thriller' u'Horror Thriller' u'Sports Drama'\n",
      " u'Sci-Fi Comedy' u'Fantasy Comedy' u'Action Drama' u'Romantic Comedy'\n",
      " u'Action Comedy' u'Horror Comedy' u'Sci-Fi' u'Fantasy Drama' u'Thriller'\n",
      " u'War' u'Period Action' u'Action Horror' u'Historical Epic' u'Western'\n",
      " u'Crime Comedy' u'Adventure Comedy' u'Period Drama' u'Musical'\n",
      " u'Sports Comedy' u'Drama / Thriller' u'Crime Drama' u'Foreign / Action'\n",
      " u'Period Horror' u'Music Drama' u'Western Comedy' u'Documentary'\n",
      " u'War Drama' u'Sports Action' u'Period Comedy' u'Crime' u'Action / Crime'\n",
      " u'War Romance' u'IMAX' u'Action Fantasy' u'Crime Thriller'\n",
      " u'Romantic Thriller' u'Comedy Thriller' u'Family' u'Romantic Adventure'\n",
      " u'Concert' u'Foreign' u'Foreign / Horror' u'Unknown' u'Sports']\n",
      "Unknown               2065\n",
      "Foreign               1671\n",
      "Drama                 1524\n",
      "Documentary           1512\n",
      "Comedy                1359\n",
      "Comedy / Drama         457\n",
      "Animation              451\n",
      "Romantic Comedy        451\n",
      "Horror                 430\n",
      "Thriller               419\n",
      "Action                 290\n",
      "Romance                250\n",
      "Drama / Thriller       214\n",
      "Crime Drama            186\n",
      "Period Drama           169\n",
      "Action Comedy          167\n",
      "Family Comedy          158\n",
      "Family Adventure       142\n",
      "Music Drama            132\n",
      "Sports Drama           121\n",
      "Action Thriller        115\n",
      "Action / Adventure     114\n",
      "Crime Comedy           112\n",
      "Horror Comedy          111\n",
      "Crime Thriller          94\n",
      "Fantasy                 94\n",
      "Horror Thriller         92\n",
      "Musical                 92\n",
      "Foreign / Action        89\n",
      "Sci-Fi Action           84\n",
      "                      ... \n",
      "Sci-Fi Horror           65\n",
      "Sci-Fi Adventure        63\n",
      "Fantasy Drama           59\n",
      "War Drama               58\n",
      "Period Adventure        54\n",
      "Sci-Fi Thriller         53\n",
      "Romantic Thriller       51\n",
      "Action / Crime          50\n",
      "Adventure               49\n",
      "Concert                 49\n",
      "Period Comedy           48\n",
      "Historical Drama        48\n",
      "War                     47\n",
      "Sci-Fi Comedy           47\n",
      "Sci-Fi                  44\n",
      "Action Horror           40\n",
      "Comedy Thriller         40\n",
      "Crime                   39\n",
      "Foreign / Horror        29\n",
      "Adventure Comedy        23\n",
      "Sci-Fi Fantasy          19\n",
      "Period Action           18\n",
      "Historical Epic         17\n",
      "Action Fantasy          16\n",
      "Western Comedy          14\n",
      "Period Horror           14\n",
      "Sports Action           12\n",
      "War Romance              5\n",
      "Romantic Adventure       4\n",
      "Sports                   1\n",
      "Name: genre, dtype: int64\n"
     ]
    }
   ],
   "source": [
    "print movies['genre'].unique()\n",
    "print movies['genre'].value_counts()"
   ]
  },
  {
   "cell_type": "code",
   "execution_count": 4,
   "metadata": {
    "collapsed": true,
    "scrolled": true
   },
   "outputs": [],
   "source": [
    "time_range = datetime.timedelta(days=45)\n",
    "maxtweets = 1000\n",
    "\n",
    "def fetch_tweets(row):\n",
    "    BOM_id = row['BOM_id']\n",
    "    movie_title = row['movie_title']\n",
    "    query = BOM_id + ' OR #' + BOM_id + ' OR ' + movie_title + ' OR #' + movie_title\n",
    "    date = row['release_date']\n",
    "    start = date.date().strftime('%Y-%m-%d')\n",
    "    end = (date.date() + time_range).strftime('%Y-%m-%d')\n",
    "    get_tweets(filename='data/' + BOM_id, maxtweets=maxtweets, query=query, since=start, until=end)\n",
    "    print movie_title, start, end"
   ]
  },
  {
   "cell_type": "code",
   "execution_count": 5,
   "metadata": {
    "collapsed": false,
    "scrolled": true
   },
   "outputs": [
    {
     "name": "stdout",
     "output_type": "stream",
     "text": [
      "Done. Output file generated \"data/somebodytolove\".\n",
      "Somebody to Love 1996-09-27 1996-11-11\n",
      "Done. Output file generated \"data/womenintrouble\".\n",
      "Women in Trouble 2009-11-13 2009-12-28\n",
      "Done. Output file generated \"data/dare09\".\n",
      "Dare 2009-11-13 2009-12-28\n",
      "Done. Output file generated \"data/toscaskiss\".\n",
      "Tosca's Kiss 2014-06-06 2014-07-21\n",
      "Done. Output file generated \"data/totalrecall2012rerelease\".\n",
      "Total Recall 2012-08-10 2012-09-24\n"
     ]
    }
   ],
   "source": [
    "# for _, row in movies[:5].iterrows():\n",
    "#     fetch_tweets(row)\n",
    "    \n",
    "for _, row in movies[-2005:-2000].iterrows():\n",
    "    fetch_tweets(row)"
   ]
  },
  {
   "cell_type": "code",
   "execution_count": 38,
   "metadata": {
    "collapsed": false,
    "scrolled": true
   },
   "outputs": [
    {
     "name": "stdout",
     "output_type": "stream",
     "text": [
      "avatar\n",
      "avengers11\n",
      "jurassicpark4\n",
      "misterlonely\n",
      "starwars7\n",
      "totalrecall2012rerelease\n",
      "womenintrouble\n"
     ]
    }
   ],
   "source": [
    "fetched_movie = {}\n",
    "directories = glob('data/*')\n",
    "\n",
    "for directory in directories:\n",
    "    BOM_id = directory[5:]\n",
    "    print BOM_id\n",
    "    fetched_movie[BOM_id] = pd.read_csv(directory, sep=';')\n",
    "    \n",
    "# for BOM_id in movies['BOM_id'][:5]:\n",
    "#     print BOM_id\n",
    "#     fetched_movie[BOM_id] = pd.read_csv('data/' + BOM_id, sep=';')\n",
    "\n",
    "# for BOM_id in movies['BOM_id'][-5005:-5000]:\n",
    "#     print BOM_id\n",
    "#     fetched_movie[BOM_id] = pd.read_csv('data/' + BOM_id, sep=';')"
   ]
  },
  {
   "cell_type": "code",
   "execution_count": 36,
   "metadata": {
    "collapsed": false,
    "scrolled": true
   },
   "outputs": [],
   "source": [
    "def sentiment(text):\n",
    "    # response = requests.post('http://text-processing.com/api/sentiment/', data={'text': text})\n",
    "    response = unirest.post(\"https://japerk-text-processing.p.mashape.com/sentiment/\",\n",
    "        headers={\n",
    "            \"X-Mashape-Key\": \"EMrBfg9GO4mshgbevq2BtBZCdet3p1iXIWejsnKRDuWRNljYxI\",\n",
    "            \"Content-Type\": \"application/x-www-form-urlencoded\",\n",
    "            \"Accept\": \"application/json\"\n",
    "          },\n",
    "        params={\n",
    "            \"language\": \"english\",\n",
    "            \"text\": text\n",
    "          }\n",
    "    )\n",
    "    if response.code != 200:\n",
    "        print response.code\n",
    "        print response.body\n",
    "        print 'failed: {}'.format(text)\n",
    "        return {'sentiment': None, 'probability': None}\n",
    "    sentiment = response.body['label']\n",
    "    if sentiment == 'pos':\n",
    "        return {'sentiment': 1, 'probability': response.body['probability']}\n",
    "    elif sentiment == 'neg':\n",
    "        return {'sentiment': -1, 'probability': response.body['probability']}\n",
    "    else:\n",
    "        return {'sentiment': 0, 'probability': response.body['probability']}"
   ]
  },
  {
   "cell_type": "code",
   "execution_count": 32,
   "metadata": {
    "collapsed": false
   },
   "outputs": [
    {
     "name": "stdout",
     "output_type": "stream",
     "text": [
      "400\n",
      "Form Validation Errors\n",
      "text: This field is required.\n",
      "\n",
      "failed: &#039; Star Wars: The Force Awakens &#039; Box Office: Nearing $900 Million US And $2 Billion Worldwide - Forbes http:// dragplus.com/post/id/334382 04\n"
     ]
    },
    {
     "data": {
      "text/html": [
       "<div>\n",
       "<table border=\"1\" class=\"dataframe\">\n",
       "  <thead>\n",
       "    <tr style=\"text-align: right;\">\n",
       "      <th></th>\n",
       "      <th>probability</th>\n",
       "      <th>sentiment</th>\n",
       "    </tr>\n",
       "  </thead>\n",
       "  <tbody>\n",
       "    <tr>\n",
       "      <th>0</th>\n",
       "      <td>None</td>\n",
       "      <td>None</td>\n",
       "    </tr>\n",
       "  </tbody>\n",
       "</table>\n",
       "</div>"
      ],
      "text/plain": [
       "  probability sentiment\n",
       "0        None      None"
      ]
     },
     "execution_count": 32,
     "metadata": {},
     "output_type": "execute_result"
    }
   ],
   "source": [
    "pd.DataFrame([sentiment('&#039; Star Wars: The Force Awakens &#039; Box Office: Nearing $900 Million US And $2 Billion Worldwide - Forbes http:// dragplus.com/post/id/334382 04')])"
   ]
  },
  {
   "cell_type": "code",
   "execution_count": 39,
   "metadata": {
    "collapsed": false,
    "scrolled": true
   },
   "outputs": [
    {
     "name": "stdout",
     "output_type": "stream",
     "text": [
      "400\n",
      "Form Validation Errors\n",
      "text: This field is required.\n",
      "\n",
      "failed: &#039; Star Wars: The Force Awakens &#039; Box Office: Nearing $900 Million US And $2 Billion Worldwide - Forbes http:// dragplus.com/post/id/334382 04 …\n",
      "400\n",
      "Form Validation Errors\n",
      "text: This field is required.\n",
      "\n",
      "failed: &#039; Star Wars: The Force Awakens &#039; Box Office: Nearing $900 Million U.S. And $2 Billion Worldwide - http:// newsbunch.com/uncategorized/ star-wars-the-force-awakens-box-office-nearing-900-million-u-s-and-2-billion-worldwide/&#039;St … ...\n",
      "starwars7\n",
      "avengers11\n",
      "womenintrouble\n",
      "misterlonely\n",
      "totalrecall2012rerelease\n",
      "avatar\n",
      "jurassicpark4\n"
     ]
    }
   ],
   "source": [
    "for BOM_id, movie in fetched_movie.items():\n",
    "    sentiments = pd.DataFrame([sentiment(text) for text in movie['text']])\n",
    "    fetched_movie[BOM_id] = pd.concat([movie, sentiments], axis=1)\n",
    "    #movie.to_csv('data/' + BOM_id, sep=';')\n",
    "    print BOM_id"
   ]
  },
  {
   "cell_type": "code",
   "execution_count": 42,
   "metadata": {
    "collapsed": true
   },
   "outputs": [],
   "source": [
    "for BOM_id, movie in fetched_movie.items():\n",
    "    movie.to_csv('data/' + BOM_id, sep=';')"
   ]
  },
  {
   "cell_type": "code",
   "execution_count": 47,
   "metadata": {
    "collapsed": false,
    "scrolled": false
   },
   "outputs": [
    {
     "name": "stdout",
     "output_type": "stream",
     "text": [
      "starwars7  :  Counter({0.0: 650, 1.0: 335, -1.0: 11, nan: 1, nan: 1}) total:  998\n",
      "avengers11  :  Counter({1: 777, 0: 183, -1: 39}) total:  999\n",
      "womenintrouble  :  Counter({0: 370, 1: 192, -1: 113}) total:  675\n",
      "misterlonely  :  Counter({0: 16, 1: 16, -1: 6}) total:  38\n",
      "totalrecall2012rerelease  :  Counter({-1: 635, 1: 253, 0: 111}) total:  999\n",
      "avatar  :  Counter({1: 467, 0: 287, -1: 246}) total:  1000\n",
      "jurassicpark4  :  Counter({0: 481, 1: 334, -1: 185}) total:  1000\n"
     ]
    }
   ],
   "source": [
    "for title, movie in fetched_movie.items():\n",
    "    counter = Counter(movie['sentiment'])\n",
    "    print title, \" : \", counter, 'total: ', sum(counter.values())"
   ]
  },
  {
   "cell_type": "code",
   "execution_count": null,
   "metadata": {
    "collapsed": true
   },
   "outputs": [],
   "source": []
  }
 ],
 "metadata": {
  "anaconda-cloud": {},
  "kernelspec": {
   "display_name": "Python [Root]",
   "language": "python",
   "name": "Python [Root]"
  },
  "language_info": {
   "codemirror_mode": {
    "name": "ipython",
    "version": 2
   },
   "file_extension": ".py",
   "mimetype": "text/x-python",
   "name": "python",
   "nbconvert_exporter": "python",
   "pygments_lexer": "ipython2",
   "version": "2.7.12"
  }
 },
 "nbformat": 4,
 "nbformat_minor": 0
}
